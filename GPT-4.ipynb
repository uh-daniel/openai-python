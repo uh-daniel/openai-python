{
 "cells": [
  {
   "cell_type": "code",
   "execution_count": 146,
   "id": "8e7a73a7",
   "metadata": {},
   "outputs": [],
   "source": [
    "import openai"
   ]
  },
  {
   "cell_type": "code",
   "execution_count": 147,
   "id": "ce857b17",
   "metadata": {},
   "outputs": [],
   "source": [
    "from dotenv import dotenv_values"
   ]
  },
  {
   "cell_type": "code",
   "execution_count": 148,
   "id": "3d4e877e",
   "metadata": {},
   "outputs": [],
   "source": [
    "import json"
   ]
  },
  {
   "cell_type": "code",
   "execution_count": 149,
   "id": "7c174139",
   "metadata": {},
   "outputs": [],
   "source": [
    "config = dotenv_values(\".env\")"
   ]
  },
  {
   "cell_type": "code",
   "execution_count": 150,
   "id": "0691b81d",
   "metadata": {},
   "outputs": [],
   "source": [
    "openai.api_key = config[\"OPENAI_API_KEY\"]"
   ]
  },
  {
   "cell_type": "code",
   "execution_count": 151,
   "id": "fa77114e",
   "metadata": {},
   "outputs": [],
   "source": [
    "import textwrap"
   ]
  },
  {
   "cell_type": "code",
   "execution_count": 152,
   "id": "e03e9027",
   "metadata": {},
   "outputs": [],
   "source": [
    "#def nice_print(dictionary):\n",
    "#    for key, value in dictionary.items():\n",
    "#        wrapped_text = \"\\n\".join(textwrap.wrap(value, width=100))\n",
    "#        print(f\"{key}:\")\n",
    "#        print(wrapped_text)\n",
    "#        print(\">\" * 100)"
   ]
  },
  {
   "cell_type": "code",
   "execution_count": 153,
   "id": "2328d9d7",
   "metadata": {},
   "outputs": [],
   "source": [
    "# #for data in openai.Completion.create(\n",
    "#     model=\"text-davinci-003\",\n",
    "#     prompt=\"write me a poem about foggy morning commutes\", \n",
    "#     max_tokens=100,\n",
    "#     stream=True\n",
    "# ):\n",
    "#    print(data.choices[0].text, end=\"\", flush=True)"
   ]
  },
  {
   "cell_type": "code",
   "execution_count": 154,
   "id": "768ab1c1",
   "metadata": {},
   "outputs": [],
   "source": [
    "# reply = openai.ChatCompletion.create(\n",
    "#     model='gpt-3.5-turbo',\n",
    "#     messages=[\n",
    "#         {\"role\": \"user\", \"content\": \"generate 2 sets of q&a's\"}\n",
    "#     ]\n",
    "# )\n",
    "# print(reply.choices[0].message.content)"
   ]
  },
  {
   "cell_type": "code",
   "execution_count": 155,
   "id": "2797c62c",
   "metadata": {},
   "outputs": [],
   "source": [
    "# openai.ChatCompletion.create(\n",
    "#     model=\"gpt-3.5-turbo\",\n",
    "#     messages=[\n",
    "#         {\"role\": \"system\", \"content\": \"You are a helpful assistant that translates English to Korean.\"},\n",
    "#         {\"role\": \"user\", \"content\": \"Translate the following English text to Korean: I want a ped frog. \"}\n",
    "#     ]\n",
    "# )"
   ]
  },
  {
   "cell_type": "code",
   "execution_count": 156,
   "id": "90a0307f",
   "metadata": {},
   "outputs": [],
   "source": [
    "# openai.ChatCompletion.create(\n",
    "#     model=\"gpt-3.5-turbo\",\n",
    "#     messages=[\n",
    "#         {\"role\": \"system\", \"content\": \"You are a helpful assistant that classifies the sentiment in tex as either positive, neutral or negative.\"},\n",
    "#         {\"role\": \"user\", \"content\": \"Classify the sentiment in the following text: 'I really hate chickens' \"},\n",
    "#         {\"role\": \"assistant\", \"content\": \"Negative!\"},\n",
    "#         {\"role\": \"user\", \"content\": \"Classify the sentiment in the following text: 'I love my dog!' \"}\n",
    "\n",
    "#     ]\n",
    "# )"
   ]
  },
  {
   "cell_type": "code",
   "execution_count": 157,
   "id": "0bf31b1d",
   "metadata": {},
   "outputs": [],
   "source": [
    "# def get_and_render_colors_chat(msg2):\n",
    "    \n",
    "#     messages = [\n",
    "#         {\"role\": \"system\", \"content\": \"You are a color palette generating assistant that responds to text prompts for color palettes. You should generate color palettes that fit the theme, mood, or instructions in the prompt. The palettes should be between 2 and 8 colors.\"},\n",
    "#         {\"role\": \"user\", \"content\":\"Convert the following verbal description of a color palette into a list of colors: a beautiful sunset\" },\n",
    "#         {\"role\": \"assistant\", \"content\": '[\"#FE4C40\", \"#EC9F6D\", \"#FFA983\", \"#BE3144\", \"#69356D\", \"#E9A8B3\",\"#FFEDD2\"]'},\n",
    "#         {\"role\": \"user\", \"content\": \"Convert the following verbal description of a color palette into a list of colors: sage, nature and earth\" },\n",
    "#         {\"role\": \"assistant\", \"content\": '[\"#587A6F\",\"#A3AF97\",\"#2A5948\",\"#3B8F8F\",\"#8EB9A3\",\"#4F5845\",\"#9DBF98\",\"#6C7E62\"]'},\n",
    "#         {\"role\": \"user\", \"content\": f\"Convert the following verbal description of a color palette into a list of colors: {msg2}\"}        \n",
    "#     ]\n",
    "#     response = openai.ChatCompletion.create(\n",
    "#         messages=messages,\n",
    "#         model=\"gpt-3.5-turbo\",\n",
    "#         max_tokens=200,\n",
    "#     )\n",
    "#     print(response)\n",
    "#     messages.append(response[\"choices\"][0][\"message\"].to_dict())   #추가(테스트)\n",
    "\n",
    "#     colors = json.loads(response[\"choices\"][0][\"message\"][\"content\"])\n",
    "#     # display_colors(colors)\n",
    "#     return colors"
   ]
  },
  {
   "cell_type": "code",
   "execution_count": 158,
   "id": "bcbc6151",
   "metadata": {},
   "outputs": [],
   "source": [
    "#messages = [\n",
    "#        {\"role\": \"system\", \"content\": \"You are a color palette generating assistant that responds to text prompts for color palettes. You should generate color palettes that fit the theme, mood, or instructions in the prompt. The palettes should be between 2 and 8 colors.\"},\n",
    "#        {\"role\": \"user\", \"content\":\"Convert the following verbal description of a color palette into a list of colors: a beautiful sunset\" },\n",
    "#        {\"role\": \"assistant\", \"content\": '[\"#FE4C40\", \"#EC9F6D\", \"#FFA983\", \"#BE3144\", \"#69356D\", \"#E9A8B3\",\"#FFEDD2\"]'},\n",
    "#        {\"role\": \"user\", \"content\": \"Convert the following verbal description of a color palette into a list of colors: sage, nature and earth\" },\n",
    "#        {\"role\": \"assistant\", \"content\": '[\"#587A6F\",\"#A3AF97\",\"#2A5948\",\"#3B8F8F\",\"#8EB9A3\",\"#4F5845\",\"#9DBF98\",\"#6C7E62\"]'},\n",
    "#        {\"role\": \"user\", \"content\": f\"Convert the following verbal description of a color palette into a list of colors: {msg2}\"}        \n",
    "#    ]\n",
    "#response = openai.ChatCompletion.create(\n",
    "#    messages=messages,\n",
    "#    model=\"gpt-3.5-turbo\",\n",
    "#    max_tokens=200\n",
    "#)"
   ]
  },
  {
   "cell_type": "code",
   "execution_count": 159,
   "id": "5f3db8a3",
   "metadata": {},
   "outputs": [],
   "source": [
    "#print(response)\n"
   ]
  },
  {
   "cell_type": "code",
   "execution_count": 160,
   "id": "26ca6da0",
   "metadata": {},
   "outputs": [],
   "source": [
    "#print(messages.append(response[\"choices\"][0][\"message\"].to_dict()) )"
   ]
  },
  {
   "cell_type": "code",
   "execution_count": 161,
   "id": "71a6db96",
   "metadata": {},
   "outputs": [],
   "source": [
    "#colors = json.loads(response[\"choices\"][0][\"message\"][\"content\"])\n",
    "## display_colors(colors)\n",
    "#print(colors)"
   ]
  },
  {
   "cell_type": "code",
   "execution_count": 162,
   "id": "c583655b",
   "metadata": {},
   "outputs": [],
   "source": [
    "# pip install tiktoken\n"
   ]
  },
  {
   "cell_type": "code",
   "execution_count": 163,
   "id": "45622201",
   "metadata": {},
   "outputs": [],
   "source": [
    "import tiktoken"
   ]
  },
  {
   "cell_type": "code",
   "execution_count": 164,
   "id": "5daeb7cf",
   "metadata": {},
   "outputs": [],
   "source": [
    "enc = tiktoken.get_encoding(\"cl100k_base\")"
   ]
  },
  {
   "cell_type": "code",
   "execution_count": 165,
   "id": "86a0fd4e",
   "metadata": {},
   "outputs": [
    {
     "data": {
      "text/plain": [
       "3"
      ]
     },
     "execution_count": 165,
     "metadata": {},
     "output_type": "execute_result"
    }
   ],
   "source": [
    "len(enc.encode(\"Hello world!\"))"
   ]
  },
  {
   "cell_type": "code",
   "execution_count": 166,
   "id": "49c9ad78",
   "metadata": {},
   "outputs": [],
   "source": [
    "book_text =  '''\n",
    "#messages = [\n",
    "#        {\"role\": \"system\", \"content\": \"You are a color palette generating assistant that responds to text prompts for color palettes. You should generate color palettes that fit the theme, mood, or instructions in the prompt. The palettes should be between 2 and 8 colors.\"},\n",
    "#        {\"role\": \"user\", \"content\":\"Convert the following verbal description of a color palette into a list of colors: a beautiful sunset\" },\n",
    "#        {\"role\": \"assistant\", \"content\": '[\"#FE4C40\", \"#EC9F6D\", \"#FFA983\", \"#BE3144\", \"#69356D\", \"#E9A8B3\",\"#FFEDD2\"]'},\n",
    "#        {\"role\": \"user\", \"content\": \"Convert the following verbal description of a color palette into a list of colors: sage, nature and earth\" },\n",
    "#        {\"role\": \"assistant\", \"content\": '[\"#587A6F\",\"#A3AF97\",\"#2A5948\",\"#3B8F8F\",\"#8EB9A3\",\"#4F5845\",\"#9DBF98\",\"#6C7E62\"]'},\n",
    "#        {\"role\": \"user\", \"content\": f\"Convert the following verbal description of a color palette into a list of colors: {msg2}\"}        \n",
    "#    ]\n",
    "#response = openai.ChatCompletion.create(\n",
    "#    messages=messages,\n",
    "#    model=\"gpt-3.5-turbo\",\n",
    "#    max_tokens=200\n",
    "#)\n",
    "'''"
   ]
  },
  {
   "cell_type": "code",
   "execution_count": 167,
   "id": "13a27055",
   "metadata": {},
   "outputs": [
    {
     "data": {
      "text/plain": [
       "320"
      ]
     },
     "execution_count": 167,
     "metadata": {},
     "output_type": "execute_result"
    }
   ],
   "source": [
    "len(enc.encode(book_text))"
   ]
  },
  {
   "cell_type": "code",
   "execution_count": null,
   "id": "64d99dc4",
   "metadata": {},
   "outputs": [],
   "source": []
  }
 ],
 "metadata": {
  "kernelspec": {
   "display_name": "Python 3 (ipykernel)",
   "language": "python",
   "name": "python3"
  },
  "language_info": {
   "codemirror_mode": {
    "name": "ipython",
    "version": 3
   },
   "file_extension": ".py",
   "mimetype": "text/x-python",
   "name": "python",
   "nbconvert_exporter": "python",
   "pygments_lexer": "ipython3",
   "version": "3.9.13"
  }
 },
 "nbformat": 4,
 "nbformat_minor": 5
}
