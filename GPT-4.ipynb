{
 "cells": [
  {
   "cell_type": "code",
   "execution_count": 51,
   "id": "8e7a73a7",
   "metadata": {},
   "outputs": [],
   "source": [
    "import openai"
   ]
  },
  {
   "cell_type": "code",
   "execution_count": 52,
   "id": "ce857b17",
   "metadata": {},
   "outputs": [],
   "source": [
    "from dotenv import dotenv_values"
   ]
  },
  {
   "cell_type": "code",
   "execution_count": 53,
   "id": "ae96388c",
   "metadata": {},
   "outputs": [],
   "source": [
    "import json"
   ]
  },
  {
   "cell_type": "code",
   "execution_count": 54,
   "id": "7c174139",
   "metadata": {},
   "outputs": [],
   "source": [
    "config = dotenv_values(\".env\")"
   ]
  },
  {
   "cell_type": "code",
   "execution_count": 55,
   "id": "0691b81d",
   "metadata": {},
   "outputs": [],
   "source": [
    "openai.api_key = config[\"OPENAI_API_KEY\"]"
   ]
  },
  {
   "cell_type": "code",
   "execution_count": 56,
   "id": "fa77114e",
   "metadata": {},
   "outputs": [],
   "source": [
    "import textwrap"
   ]
  },
  {
   "cell_type": "code",
   "execution_count": 57,
   "id": "e03e9027",
   "metadata": {},
   "outputs": [],
   "source": [
    "#def nice_print(dictionary):\n",
    "#    for key, value in dictionary.items():\n",
    "#        wrapped_text = \"\\n\".join(textwrap.wrap(value, width=100))\n",
    "#        print(f\"{key}:\")\n",
    "#        print(wrapped_text)\n",
    "#        print(\">\" * 100)"
   ]
  },
  {
   "cell_type": "code",
   "execution_count": 58,
   "id": "2328d9d7",
   "metadata": {},
   "outputs": [],
   "source": [
    "# #for data in openai.Completion.create(\n",
    "#     model=\"text-davinci-003\",\n",
    "#     prompt=\"write me a poem about foggy morning commutes\", \n",
    "#     max_tokens=100,\n",
    "#     stream=True\n",
    "# ):\n",
    "#    print(data.choices[0].text, end=\"\", flush=True)"
   ]
  },
  {
   "cell_type": "code",
   "execution_count": 59,
   "id": "768ab1c1",
   "metadata": {},
   "outputs": [],
   "source": [
    "# reply = openai.ChatCompletion.create(\n",
    "#     model='gpt-3.5-turbo',\n",
    "#     messages=[\n",
    "#         {\"role\": \"user\", \"content\": \"generate 2 sets of q&a's\"}\n",
    "#     ]\n",
    "# )\n",
    "# print(reply.choices[0].message.content)"
   ]
  },
  {
   "cell_type": "code",
   "execution_count": 60,
   "id": "2797c62c",
   "metadata": {},
   "outputs": [],
   "source": [
    "# openai.ChatCompletion.create(\n",
    "#     model=\"gpt-3.5-turbo\",\n",
    "#     messages=[\n",
    "#         {\"role\": \"system\", \"content\": \"You are a helpful assistant that translates English to Korean.\"},\n",
    "#         {\"role\": \"user\", \"content\": \"Translate the following English text to Korean: I want a ped frog. \"}\n",
    "#     ]\n",
    "# )"
   ]
  },
  {
   "cell_type": "code",
   "execution_count": 61,
   "id": "90a0307f",
   "metadata": {},
   "outputs": [],
   "source": [
    "# openai.ChatCompletion.create(\n",
    "#     model=\"gpt-3.5-turbo\",\n",
    "#     messages=[\n",
    "#         {\"role\": \"system\", \"content\": \"You are a helpful assistant that classifies the sentiment in tex as either positive, neutral or negative.\"},\n",
    "#         {\"role\": \"user\", \"content\": \"Classify the sentiment in the following text: 'I really hate chickens' \"},\n",
    "#         {\"role\": \"assistant\", \"content\": \"Negative!\"},\n",
    "#         {\"role\": \"user\", \"content\": \"Classify the sentiment in the following text: 'I love my dog!' \"}\n",
    "\n",
    "#     ]\n",
    "# )"
   ]
  },
  {
   "cell_type": "code",
   "execution_count": 62,
   "id": "0bf31b1d",
   "metadata": {},
   "outputs": [],
   "source": [
    "def get_and_render_colors_chat(msg2):\n",
    "    \n",
    "    messages = [\n",
    "        {\"role\": \"system\", \"content\": \"You are a color palette generating assistant that responds to text prompts for color palettes. You should generate color palettes that fit the theme, mood, or instructions in the prompt. The palettes should be between 2 and 8 colors.\"},\n",
    "        {\"role\": \"user\", \"content\":\"Convert the following verbal description of a color palette into a list of colors: a beautiful sunset\" },\n",
    "        {\"role\": \"assistant\", \"content\": '[\"#FE4C40\", \"#EC9F6D\", \"#FFA983\", \"#BE3144\", \"#69356D\", \"#E9A8B3\",\"#FFEDD2\"]'},\n",
    "        {\"role\": \"user\", \"content\": \"Convert the following verbal description of a color palette into a list of colors: sage, nature and earth\" },\n",
    "        {\"role\": \"assistant\", \"content\": '[\"#587A6F\",\"#A3AF97\",\"#2A5948\",\"#3B8F8F\",\"#8EB9A3\",\"#4F5845\",\"#9DBF98\",\"#6C7E62\"]'},\n",
    "        {\"role\": \"user\", \"content\": f\"Convert the following verbal description of a color palette into a list of colors: {msg2}\"}        \n",
    "    ]\n",
    "    response = openai.ChatCompletion.create(\n",
    "        messages=messages,\n",
    "        model=\"gpt-3.5-turbo\",\n",
    "        max_tokens=200,\n",
    "    )\n",
    "    print(response)\n",
    "    messages.append(response[\"choices\"][0][\"message\"].to_dict())   #추가(테스트)\n",
    "\n",
    "    colors = json.loads(response[\"choices\"][0][\"message\"][\"content\"])\n",
    "    # display_colors(colors)\n",
    "    return colors"
   ]
  },
  {
   "cell_type": "code",
   "execution_count": 66,
   "id": "bb7f9550",
   "metadata": {},
   "outputs": [
    {
     "name": "stdout",
     "output_type": "stream",
     "text": [
      "{\n",
      "  \"id\": \"chatcmpl-7X2nczjv3ekl5uxhbCCEbgCZXIFir\",\n",
      "  \"object\": \"chat.completion\",\n",
      "  \"created\": 1688109940,\n",
      "  \"model\": \"gpt-3.5-turbo-0613\",\n",
      "  \"choices\": [\n",
      "    {\n",
      "      \"index\": 0,\n",
      "      \"message\": {\n",
      "        \"role\": \"assistant\",\n",
      "        \"content\": \"[\\\"#000000\\\",\\\"#4F4F4F\\\",\\\"#9E9E9E\\\",\\\"#FFFFFF\\\"]\"\n",
      "      },\n",
      "      \"finish_reason\": \"stop\"\n",
      "    }\n",
      "  ],\n",
      "  \"usage\": {\n",
      "    \"prompt_tokens\": 226,\n",
      "    \"completion_tokens\": 21,\n",
      "    \"total_tokens\": 247\n",
      "  }\n",
      "}\n"
     ]
    },
    {
     "data": {
      "text/plain": [
       "['#000000', '#4F4F4F', '#9E9E9E', '#FFFFFF']"
      ]
     },
     "execution_count": 66,
     "metadata": {},
     "output_type": "execute_result"
    }
   ],
   "source": [
    "get_and_render_colors_chat(\"무서운 아줌마\")"
   ]
  },
  {
   "cell_type": "code",
   "execution_count": 67,
   "id": "5373791e",
   "metadata": {},
   "outputs": [
    {
     "ename": "NameError",
     "evalue": "name 'response' is not defined",
     "output_type": "error",
     "traceback": [
      "\u001b[1;31m---------------------------------------------------------------------------\u001b[0m",
      "\u001b[1;31mNameError\u001b[0m                                 Traceback (most recent call last)",
      "\u001b[1;32mC:\\Users\\Public\\Documents\\ESTsoft\\CreatorTemp\\ipykernel_15316\\2729876923.py\u001b[0m in \u001b[0;36m<module>\u001b[1;34m\u001b[0m\n\u001b[1;32m----> 1\u001b[1;33m \u001b[0mprint\u001b[0m\u001b[1;33m(\u001b[0m\u001b[0mresponse\u001b[0m\u001b[1;33m)\u001b[0m\u001b[1;33m\u001b[0m\u001b[1;33m\u001b[0m\u001b[0m\n\u001b[0m",
      "\u001b[1;31mNameError\u001b[0m: name 'response' is not defined"
     ]
    }
   ],
   "source": [
    "print(response)"
   ]
  },
  {
   "cell_type": "code",
   "execution_count": null,
   "id": "27e670d4",
   "metadata": {},
   "outputs": [],
   "source": []
  }
 ],
 "metadata": {
  "kernelspec": {
   "display_name": "Python 3 (ipykernel)",
   "language": "python",
   "name": "python3"
  },
  "language_info": {
   "codemirror_mode": {
    "name": "ipython",
    "version": 3
   },
   "file_extension": ".py",
   "mimetype": "text/x-python",
   "name": "python",
   "nbconvert_exporter": "python",
   "pygments_lexer": "ipython3",
   "version": "3.9.13"
  }
 },
 "nbformat": 4,
 "nbformat_minor": 5
}
