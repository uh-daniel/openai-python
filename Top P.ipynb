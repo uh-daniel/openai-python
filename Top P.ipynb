{
 "cells": [
  {
   "cell_type": "code",
   "execution_count": 1,
   "id": "8e7a73a7",
   "metadata": {},
   "outputs": [],
   "source": [
    "import openai"
   ]
  },
  {
   "cell_type": "code",
   "execution_count": 2,
   "id": "ce857b17",
   "metadata": {},
   "outputs": [],
   "source": [
    "from dotenv import dotenv_values"
   ]
  },
  {
   "cell_type": "code",
   "execution_count": 3,
   "id": "7c174139",
   "metadata": {},
   "outputs": [],
   "source": [
    "config = dotenv_values(\".env\")"
   ]
  },
  {
   "cell_type": "code",
   "execution_count": 4,
   "id": "0691b81d",
   "metadata": {},
   "outputs": [],
   "source": [
    "openai.api_key = config[\"OPENAI_API_KEY\"]"
   ]
  },
  {
   "cell_type": "code",
   "execution_count": 5,
   "id": "fa77114e",
   "metadata": {},
   "outputs": [],
   "source": [
    "import textwrap"
   ]
  },
  {
   "cell_type": "code",
   "execution_count": 6,
   "id": "e03e9027",
   "metadata": {},
   "outputs": [],
   "source": [
    "def nice_print(dictionary):\n",
    "    # Setting -2 here will cause the model to repeat the same tokens over ...\n",
    "    for key, value in dictionary.items():\n",
    "        wrapped_text = \"\\n\".join(textwrap.wrap(value, width=100))\n",
    "        print(f\"{key}:\")\n",
    "        print(wrapped_text)\n",
    "        print(\">\" * 100)"
   ]
  },
  {
   "cell_type": "code",
   "execution_count": 7,
   "id": "2328d9d7",
   "metadata": {},
   "outputs": [
    {
     "name": "stdout",
     "output_type": "stream",
     "text": [
      "Top P 1:\n",
      "My favorite food is pizza  Pizza is a classic favorite for many people. It is known for its\n",
      "deliciously cheesy topping, savory sauce, and crusty yet soft base. There are many different\n",
      "combinations to choose from, ranging from margarita to meat lovers. I personally love a classic\n",
      "combination of pepperoni, cheese and a bit of green peppers.\n",
      ">>>>>>>>>>>>>>>>>>>>>>>>>>>>>>>>>>>>>>>>>>>>>>>>>>>>>>>>>>>>>>>>>>>>>>>>>>>>>>>>>>>>>>>>>>>>>>>>>>>>\n",
      "Top P 0.5:\n",
      "My favorite food is pizza. I love the combination of cheese, sauce, and crust. It's so versatile,\n",
      "too, because you can add whatever toppings you want. Plus, it's easy to make and always tastes\n",
      "great.\n",
      ">>>>>>>>>>>>>>>>>>>>>>>>>>>>>>>>>>>>>>>>>>>>>>>>>>>>>>>>>>>>>>>>>>>>>>>>>>>>>>>>>>>>>>>>>>>>>>>>>>>>\n",
      "Top P 0:\n",
      "My favorite food is pizza. I love the combination of the doughy crust, the tangy tomato sauce, and\n",
      "the melty cheese. I also like to add different toppings like pepperoni, mushrooms, and olives. Pizza\n",
      "is a great meal for any occasion, whether it's a casual night in or a special celebration.\n",
      ">>>>>>>>>>>>>>>>>>>>>>>>>>>>>>>>>>>>>>>>>>>>>>>>>>>>>>>>>>>>>>>>>>>>>>>>>>>>>>>>>>>>>>>>>>>>>>>>>>>>\n"
     ]
    }
   ],
   "source": [
    "nice_print(\n",
    "    {\n",
    "        f\"Top P {top_p}\": openai.Completion.create(\n",
    "            model=\"text-davinci-003\", \n",
    "            prompt=\"\"\"My favorite food is \"\"\".strip(), \n",
    "            max_tokens=75, \n",
    "            echo=True, \n",
    "            top_p=top_p\n",
    "        )\n",
    "        .choices[0][\"text\"]\n",
    "        .strip()\n",
    "        for top_p in [1, 0.5, 0]\n",
    "    }\n",
    ")"
   ]
  }
 ],
 "metadata": {
  "kernelspec": {
   "display_name": "Python 3 (ipykernel)",
   "language": "python",
   "name": "python3"
  },
  "language_info": {
   "codemirror_mode": {
    "name": "ipython",
    "version": 3
   },
   "file_extension": ".py",
   "mimetype": "text/x-python",
   "name": "python",
   "nbconvert_exporter": "python",
   "pygments_lexer": "ipython3",
   "version": "3.9.13"
  }
 },
 "nbformat": 4,
 "nbformat_minor": 5
}
