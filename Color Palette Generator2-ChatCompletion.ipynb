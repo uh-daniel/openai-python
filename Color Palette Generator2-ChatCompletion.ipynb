{
 "cells": [
  {
   "cell_type": "code",
   "execution_count": 63,
   "id": "b3bd121b",
   "metadata": {},
   "outputs": [],
   "source": [
    "import openai"
   ]
  },
  {
   "cell_type": "code",
   "execution_count": 64,
   "id": "9faa5393",
   "metadata": {},
   "outputs": [],
   "source": [
    "import json"
   ]
  },
  {
   "cell_type": "code",
   "execution_count": 65,
   "id": "63a6c27b",
   "metadata": {},
   "outputs": [],
   "source": [
    "from dotenv import dotenv_values"
   ]
  },
  {
   "cell_type": "code",
   "execution_count": 66,
   "id": "797b1727",
   "metadata": {},
   "outputs": [],
   "source": [
    "config = dotenv_values(\".env\")"
   ]
  },
  {
   "cell_type": "code",
   "execution_count": 67,
   "id": "d83402ed",
   "metadata": {},
   "outputs": [],
   "source": [
    "openai.api_key = config[\"OPENAI_API_KEY\"]"
   ]
  },
  {
   "cell_type": "code",
   "execution_count": 68,
   "id": "ee44498d",
   "metadata": {},
   "outputs": [],
   "source": [
    "from IPython.display import Markdown, display\n",
    "\n",
    "def display_colors(colors):    \n",
    "    display(Markdown(\" \".join(\n",
    "        f\"<span style='color: {color}'>{chr(9608) * 4}</span>\"\n",
    "        for color in colors\n",
    "    )))"
   ]
  },
  {
   "cell_type": "code",
   "execution_count": 69,
   "id": "19b686f7",
   "metadata": {},
   "outputs": [],
   "source": [
    "def get_and_render_colors_chat(msg):\n",
    "    \n",
    "    messages = [\n",
    "        {\"role\": \"system\", \"content\": \"You are a color palette generating assistant that responds to text prompts for color palettes. You should generate color palettes that fit the theme, mood, or instructions in the prompt. The palettes should be between 2 and 8 colors.\"},\n",
    "        {\"role\": \"user\", \"content\":\"Convert the following verbal description of a color palette into a list of colors: a beautiful sunset\" },\n",
    "        {\"role\": \"assistant\", \"content\": '[\"#FE4C40\", \"#EC9F6D\", \"#FFA983\", \"#BE3144\", \"#69356D\", \"#E9A8B3\",\"#FFEDD2\"]'},\n",
    "        {\"role\": \"user\", \"content\": \"Convert the following verbal description of a color palette into a list of colors: sage, nature and earth\" },\n",
    "        {\"role\": \"assistant\", \"content\": '[\"#587A6F\",\"#A3AF97\",\"#2A5948\",\"#3B8F8F\",\"#8EB9A3\",\"#4F5845\",\"#9DBF98\",\"#6C7E62\"]'},\n",
    "        {\"role\": \"user\", \"content\": f\"Convert the following verbal description of a color palette into a list of colors: {msg}\"}        \n",
    "    ]\n",
    "    response = openai.ChatCompletion.create(\n",
    "        messages=messages,\n",
    "        model=\"gpt-3.5-turbo\",\n",
    "        max_tokens=200,\n",
    "    )\n",
    "    \n",
    "#     print(response)\n",
    "    colors = json.loads(response[\"choices\"][0][\"message\"][\"content\"])\n",
    "    display_colors(colors)"
   ]
  },
  {
   "cell_type": "code",
   "execution_count": 70,
   "id": "7afe29e1",
   "metadata": {},
   "outputs": [
    {
     "data": {
      "text/markdown": [
       "<span style='color: #4285F4'>████</span> <span style='color: #DB4437'>████</span> <span style='color: #F4B400'>████</span> <span style='color: #0F9D58'>████</span>"
      ],
      "text/plain": [
       "<IPython.core.display.Markdown object>"
      ]
     },
     "metadata": {},
     "output_type": "display_data"
    }
   ],
   "source": [
    "get_and_render_colors_chat(\"4 Google brand colors\")"
   ]
  },
  {
   "cell_type": "code",
   "execution_count": 71,
   "id": "0fcdf024",
   "metadata": {},
   "outputs": [
    {
     "data": {
      "text/markdown": [
       "<span style='color: #D94F1E'>████</span> <span style='color: #D8A258'>████</span> <span style='color: #9D652E'>████</span> <span style='color: #A44C39'>████</span> <span style='color: #B38867'>████</span> <span style='color: #CE923C'>████</span> <span style='color: #714136'>████</span> <span style='color: #905525'>████</span>"
      ],
      "text/plain": [
       "<IPython.core.display.Markdown object>"
      ]
     },
     "metadata": {},
     "output_type": "display_data"
    }
   ],
   "source": [
    "get_and_render_colors_chat(\"Thanksgiving color palette\")"
   ]
  },
  {
   "cell_type": "code",
   "execution_count": null,
   "id": "61a2ecb0",
   "metadata": {},
   "outputs": [],
   "source": []
  },
  {
   "cell_type": "code",
   "execution_count": null,
   "id": "7b4e947f",
   "metadata": {},
   "outputs": [],
   "source": []
  },
  {
   "cell_type": "code",
   "execution_count": null,
   "id": "175bce6c",
   "metadata": {},
   "outputs": [],
   "source": []
  },
  {
   "cell_type": "code",
   "execution_count": null,
   "id": "8557e1dc",
   "metadata": {},
   "outputs": [],
   "source": []
  },
  {
   "cell_type": "code",
   "execution_count": null,
   "id": "9ba20f76",
   "metadata": {},
   "outputs": [],
   "source": []
  },
  {
   "cell_type": "code",
   "execution_count": null,
   "id": "04adcce7",
   "metadata": {},
   "outputs": [],
   "source": []
  }
 ],
 "metadata": {
  "kernelspec": {
   "display_name": "Python 3 (ipykernel)",
   "language": "python",
   "name": "python3"
  },
  "language_info": {
   "codemirror_mode": {
    "name": "ipython",
    "version": 3
   },
   "file_extension": ".py",
   "mimetype": "text/x-python",
   "name": "python",
   "nbconvert_exporter": "python",
   "pygments_lexer": "ipython3",
   "version": "3.9.13"
  }
 },
 "nbformat": 4,
 "nbformat_minor": 5
}
