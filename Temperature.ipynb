{
 "cells": [
  {
   "cell_type": "code",
   "execution_count": 7,
   "id": "8e7a73a7",
   "metadata": {},
   "outputs": [],
   "source": [
    "import openai"
   ]
  },
  {
   "cell_type": "code",
   "execution_count": 8,
   "id": "ce857b17",
   "metadata": {},
   "outputs": [],
   "source": [
    "from dotenv import dotenv_values"
   ]
  },
  {
   "cell_type": "code",
   "execution_count": 9,
   "id": "7c174139",
   "metadata": {},
   "outputs": [],
   "source": [
    "config = dotenv_values(\".env\")"
   ]
  },
  {
   "cell_type": "code",
   "execution_count": 10,
   "id": "0691b81d",
   "metadata": {},
   "outputs": [],
   "source": [
    "openai.api_key = config[\"OPENAI_API_KEY\"]"
   ]
  },
  {
   "cell_type": "code",
   "execution_count": 11,
   "id": "fa77114e",
   "metadata": {},
   "outputs": [],
   "source": [
    "import textwrap"
   ]
  },
  {
   "cell_type": "code",
   "execution_count": 12,
   "id": "e03e9027",
   "metadata": {},
   "outputs": [],
   "source": [
    "def nice_print(dictionary):\n",
    "    # Setting -2 here will cause the model to repeat the same tokens over ...\n",
    "    for key, value in dictionary.items():\n",
    "        wrapped_text = \"\\n\".join(textwrap.wrap(value, width=120))\n",
    "        print(f\"{key}:\")\n",
    "        print(wrapped_text)\n",
    "        print(\"=\" * 120)"
   ]
  },
  {
   "cell_type": "code",
   "execution_count": 13,
   "id": "2328d9d7",
   "metadata": {},
   "outputs": [
    {
     "name": "stdout",
     "output_type": "stream",
     "text": [
      "Temperature 0:\n",
      "My favorite food is pizza. I love the combination of the doughy crust, the tangy tomato sauce, and the melty cheese. I\n",
      "also like to add different toppings like pepperoni, mushrooms, and olives. Pizza is a great meal for any occasion,\n",
      "whether it's a casual night in or a special celebration.\n",
      "========================================================================================================================\n",
      "Temperature 0.5:\n",
      "My favorite food is pizza. I love the combination of savory tomato sauce, melted cheese, and a variety of toppings. I\n",
      "especially like to try different varieties of pizza, like Hawaiian, margherita, or pepperoni. The versatility of pizza\n",
      "makes it a great choice for any meal or snack.\n",
      "========================================================================================================================\n",
      "Temperature 1:\n",
      "My favorite food is pizza. I love pizza because it is so versatile. There are endless varieties of topping combinations\n",
      "that you can create, so there is always something new to try. I also love the combination of dough and cheese that is\n",
      "found in every pizza. No matter what type of pizza you are eating, it is always delicious.\n",
      "========================================================================================================================\n",
      "Temperature 1.5:\n",
      "My favorite food is argentinian steak. I love how flavourful the steak is when it is cooked over an open flame. It also\n",
      "has a unique smoky flavor which really adds some extra yumminess to it. This has, ultimately, become my favorite dish in\n",
      "the kitchen. Argentinian steak is quite versatile as it can be served on its own, with accompaniments like berries\n",
      "========================================================================================================================\n",
      "Temperature 2:\n",
      "My favorite food is Pasta.  It is so delicious and is palate simply causes black because bliss!. There is something\n",
      "authentically rewarding experience deeper throats pasta sauce heavily tuineling on fresner thin circles butter married\n",
      "mysteriously spir/ed within hollowed loops ribping to lenwa yourn thing threads alike swing whispers tongue butterflies\n",
      "onsiorg home again. Source varieties over exotic Imdughei\n",
      "========================================================================================================================\n"
     ]
    }
   ],
   "source": [
    "nice_print(\n",
    "    {\n",
    "        f\"Temperature {temperature}\": openai.Completion.create(model=\"text-davinci-003\", \n",
    "                prompt=\"\"\"My favorite food is \"\"\".strip(), \n",
    "                max_tokens=75, echo=True, temperature=temperature)\n",
    "        .choices[0][\"text\"]\n",
    "        .strip()\n",
    "        for temperature in [0, 0.5, 1, 1.5, 2]\n",
    "    }\n",
    "\n",
    ")"
   ]
  }
 ],
 "metadata": {
  "kernelspec": {
   "display_name": "Python 3 (ipykernel)",
   "language": "python",
   "name": "python3"
  },
  "language_info": {
   "codemirror_mode": {
    "name": "ipython",
    "version": 3
   },
   "file_extension": ".py",
   "mimetype": "text/x-python",
   "name": "python",
   "nbconvert_exporter": "python",
   "pygments_lexer": "ipython3",
   "version": "3.9.13"
  }
 },
 "nbformat": 4,
 "nbformat_minor": 5
}
